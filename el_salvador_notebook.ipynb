{
 "cells": [
  {
   "cell_type": "markdown",
   "metadata": {},
   "source": [
    "*OBjective: Find where can El Salvador citizens travel without the need of a requesting a visa, and provide recommendations based on different factors of living conditions.* "
   ]
  },
  {
   "cell_type": "markdown",
   "metadata": {},
   "source": [
    "**data from:** \n",
    "\n",
    "***https://visaguide.world/visa-free-countries/salvadoran-passport/***\n",
    "\n",
    "***https://www.worlddata.info/cost-of-living.php***\n",
    "\n",
    "\n",
    "Notes: found a better more resourceful website:\n",
    "https://www.numbeo.com/cost-of-living/"
   ]
  },
  {
   "cell_type": "code",
   "execution_count": 3,
   "metadata": {},
   "outputs": [],
   "source": [
    "import requests\n",
    "import pandas as pd\n",
    "import numpy as np\n",
    "import csv\n",
    "from bs4 import BeautifulSoup"
   ]
  },
  {
   "cell_type": "code",
   "execution_count": 16,
   "metadata": {},
   "outputs": [
    {
     "data": {
      "text/html": [
       "<div>\n",
       "<style scoped>\n",
       "    .dataframe tbody tr th:only-of-type {\n",
       "        vertical-align: middle;\n",
       "    }\n",
       "\n",
       "    .dataframe tbody tr th {\n",
       "        vertical-align: top;\n",
       "    }\n",
       "\n",
       "    .dataframe thead th {\n",
       "        text-align: right;\n",
       "    }\n",
       "</style>\n",
       "<table border=\"1\" class=\"dataframe\">\n",
       "  <thead>\n",
       "    <tr style=\"text-align: right;\">\n",
       "      <th></th>\n",
       "      <th>Countries</th>\n",
       "    </tr>\n",
       "  </thead>\n",
       "  <tbody>\n",
       "    <tr>\n",
       "      <th>0</th>\n",
       "      <td>Albania</td>\n",
       "    </tr>\n",
       "    <tr>\n",
       "      <th>1</th>\n",
       "      <td>Algeria</td>\n",
       "    </tr>\n",
       "    <tr>\n",
       "      <th>2</th>\n",
       "      <td>Australia</td>\n",
       "    </tr>\n",
       "    <tr>\n",
       "      <th>3</th>\n",
       "      <td>Austria</td>\n",
       "    </tr>\n",
       "    <tr>\n",
       "      <th>4</th>\n",
       "      <td>Azerbaijan</td>\n",
       "    </tr>\n",
       "    <tr>\n",
       "      <th>...</th>\n",
       "      <td>...</td>\n",
       "    </tr>\n",
       "    <tr>\n",
       "      <th>95</th>\n",
       "      <td>United Kingdom</td>\n",
       "    </tr>\n",
       "    <tr>\n",
       "      <th>96</th>\n",
       "      <td>United States</td>\n",
       "    </tr>\n",
       "    <tr>\n",
       "      <th>97</th>\n",
       "      <td>Uzbekistan</td>\n",
       "    </tr>\n",
       "    <tr>\n",
       "      <th>98</th>\n",
       "      <td>Vanuatu</td>\n",
       "    </tr>\n",
       "    <tr>\n",
       "      <th>99</th>\n",
       "      <td>Vietnam</td>\n",
       "    </tr>\n",
       "  </tbody>\n",
       "</table>\n",
       "<p>100 rows × 1 columns</p>\n",
       "</div>"
      ],
      "text/plain": [
       "         Countries\n",
       "0          Albania\n",
       "1          Algeria\n",
       "2        Australia\n",
       "3          Austria\n",
       "4       Azerbaijan\n",
       "..             ...\n",
       "95  United Kingdom\n",
       "96   United States\n",
       "97      Uzbekistan\n",
       "98         Vanuatu\n",
       "99         Vietnam\n",
       "\n",
       "[100 rows x 1 columns]"
      ]
     },
     "execution_count": 16,
     "metadata": {},
     "output_type": "execute_result"
    }
   ],
   "source": [
    "r = requests.get('https://www.worlddata.info/cost-of-living.php')\n",
    "soup = BeautifulSoup(r.text, 'html.parser')\n",
    "\n",
    "world_data = [tag for tag in soup.find_all(['tr'])]\n",
    "country_bucket = []\n",
    "column_names = ['Countries'] # scraped country names from https://www.worlddata.info/cost-of-living.php\n",
    "\n",
    "n = 1\n",
    "while n < len(world_data):\n",
    "    countries = world_data[n].a.text\n",
    "    n+=1\n",
    "    country_bucket.append(countries)\n",
    "\n",
    "country_bucket = sorted(country_bucket)\n",
    "\n",
    "df = pd.DataFrame(country_bucket, columns=column_names)\n",
    "df"
   ]
  },
  {
   "cell_type": "code",
   "execution_count": 34,
   "metadata": {},
   "outputs": [],
   "source": [
    "r = requests.get('https://www.numbeo.com/quality-of-life/rankings_by_country.jsp')\n",
    "soup = BeautifulSoup(r.text, 'html.parser')\n",
    "\n",
    "data_for_column_names = [tag for tag in soup.find_all(['th'])]\n"
   ]
  },
  {
   "cell_type": "code",
   "execution_count": 49,
   "metadata": {},
   "outputs": [
    {
     "data": {
      "text/plain": [
       "['Rank',\n",
       " 'Country',\n",
       " 'Quality of Life Index',\n",
       " 'Purchasing Power Index',\n",
       " 'Safety Index',\n",
       " 'Health Care Index',\n",
       " 'Cost of Living Index',\n",
       " 'Property Price to Income Ratio',\n",
       " 'Traffic Commute Time Index',\n",
       " 'Pollution Index',\n",
       " 'Climate Index']"
      ]
     },
     "execution_count": 49,
     "metadata": {},
     "output_type": "execute_result"
    }
   ],
   "source": [
    "column_names2 = []\n",
    "\n",
    "o = 0\n",
    "while o < len(data_for_column_names):\n",
    "    column_data = data_for_column_names[o].text\n",
    "    o+=1\n",
    "    column_names2.append(column_data)\n",
    "    \n",
    "column_names2"
   ]
  },
  {
   "cell_type": "code",
   "execution_count": null,
   "metadata": {},
   "outputs": [],
   "source": []
  }
 ],
 "metadata": {
  "kernelspec": {
   "display_name": "Python 3",
   "language": "python",
   "name": "python3"
  },
  "language_info": {
   "codemirror_mode": {
    "name": "ipython",
    "version": 3
   },
   "file_extension": ".py",
   "mimetype": "text/x-python",
   "name": "python",
   "nbconvert_exporter": "python",
   "pygments_lexer": "ipython3",
   "version": "3.10.8"
  },
  "orig_nbformat": 4
 },
 "nbformat": 4,
 "nbformat_minor": 2
}

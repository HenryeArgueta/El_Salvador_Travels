{
 "cells": [
  {
   "cell_type": "markdown",
   "metadata": {},
   "source": [
    "*OBjective: Find where can El Salvador citizens travel without the need of a visa, and provide recommendations based on different factors of living conditions.* "
   ]
  },
  {
   "cell_type": "markdown",
   "metadata": {},
   "source": [
    "**data from:** \n",
    "\n",
    "***https://visaguide.world/visa-free-countries/salvadoran-passport/***\n",
    "\n",
    "***https://www.worlddata.info/cost-of-living.php***\n",
    "\n",
    "\n",
    "Notes: found a better more resourceful website:\n",
    "https://www.numbeo.com/cost-of-living/"
   ]
  },
  {
   "cell_type": "code",
   "execution_count": 3,
   "metadata": {},
   "outputs": [],
   "source": [
    "import requests\n",
    "import re\n",
    "import pandas as pd\n",
    "import numpy as np\n",
    "import csv\n",
    "from bs4 import BeautifulSoup"
   ]
  },
  {
   "cell_type": "code",
   "execution_count": 4,
   "metadata": {},
   "outputs": [],
   "source": [
    "r  = requests.get('https://www.numbeo.com/quality-of-life/rankings_by_country.jsp')\n",
    "r2 = requests.get('https://www.numbeo.com/cost-of-living/')\n",
    "r3 = requests.get('https://visaguide.world/visa-free-countries/salvadoran-passport/')\n",
    "column_soup  = BeautifulSoup(r.text, 'html.parser')\n",
    "country_soup = BeautifulSoup(r2.text, 'html.parser')\n",
    "visa_free_soup = BeautifulSoup(r3.text, 'html.parser')\n",
    "\n",
    "data_for_column_names  = [tag for tag in column_soup.find_all(['th'])]\n",
    "data_for_country_rows  = [tag for tag in country_soup.find_all(['h4','a'])]\n",
    "es_visa_free_countries = [tag for tag in visa_free_soup.find_all(attrs={'ns_has-flag'})] \n",
    "\n"
   ]
  },
  {
   "cell_type": "code",
   "execution_count": 5,
   "metadata": {},
   "outputs": [
    {
     "name": "stdout",
     "output_type": "stream",
     "text": [
      "r status code = 200\n",
      "r2 status code = 200\n",
      "r3 status code = 200\n"
     ]
    }
   ],
   "source": [
    "\n",
    "\n",
    "print(f'r status code = {r.status_code}\\nr2 status code = {r2.status_code}\\nr3 status code = {r3.status_code}')"
   ]
  },
  {
   "cell_type": "code",
   "execution_count": 6,
   "metadata": {},
   "outputs": [],
   "source": [
    "columns_we_need        = [] # made an empty array bucket to store the scraped column names\n",
    "country_rows           = [] # made an empty bucket for the countries\n",
    "without_visa_countries = [] \n",
    "evisa_countries        = []\n",
    "more_columns           = ['Visa Free Countries',\n",
    "                          'eVisa Countries', \n",
    "                          'Visa on Arrival Countries',\n",
    "                          'Visa Required Countries'\n",
    "                          ]\n",
    "\n",
    "# (column_names2) | adds names of columns we'll be using to empty array \n",
    "o = 0\n",
    "while o < len(data_for_column_names):\n",
    "    column_data = data_for_column_names[o].text\n",
    "    o+=1\n",
    "    columns_we_need.append(column_data)\n",
    "\n",
    "# added more columns to insert values to this particular columns\n",
    "start = 0\n",
    "while start < len(more_columns):\n",
    "    data = more_columns[start]\n",
    "    columns_we_need.append(data)\n",
    "    start+=1\n",
    "    \n",
    "# made the array bucket into a dictionary      \n",
    "columns_we_need = {key: [] for key in columns_we_need}\n",
    " \n",
    "# takes the soup data and gets the text from the arrays\n",
    "# and stores the clean data into a new array\n",
    "n = 65\n",
    "while n < len(data_for_country_rows):\n",
    "    country_data_in = data_for_country_rows[n].text\n",
    "\n",
    "    if len(country_data_in) < 2:\n",
    "        n+=1\n",
    "        continue\n",
    "    country_rows.append(country_data_in)\n",
    "    n+=1\n",
    "\n",
    "# (Country Column) adds values to dictionary \n",
    "country_rows = country_rows[:-11]\n",
    "for value in country_rows:\n",
    "    columns_we_need['Country'].append(value)\n",
    "\n",
    "\n",
    "# (No Visa Countries) countries El Salvador can travel to without a visa\n",
    "for i in range(len(es_visa_free_countries[:100])):\n",
    "    visa_free_countries = es_visa_free_countries[i].text\n",
    "    without_visa_countries.append(visa_free_countries)\n",
    "\n",
    "\n",
    "# (eVisa Countries) Countries that provide eVisa to Salvadoran Citizens\n",
    "q = 100\n",
    "while q < len(es_visa_free_countries[:128]):\n",
    "    evisa = es_visa_free_countries[q].text\n",
    "    evisa_countries.append(evisa)\n",
    "    q+=1\n",
    "\n",
    "\n",
    "    "
   ]
  },
  {
   "cell_type": "code",
   "execution_count": 7,
   "metadata": {},
   "outputs": [
    {
     "data": {
      "text/plain": [
       "dict_keys(['Rank', 'Country', 'Quality of Life Index', 'Purchasing Power Index', 'Safety Index', 'Health Care Index', 'Cost of Living Index', 'Property Price to Income Ratio', 'Traffic Commute Time Index', 'Pollution Index', 'Climate Index', 'Visa Free Countries', 'eVisa Countries', 'Visa on Arrival Countries', 'Visa Required Countries'])"
      ]
     },
     "execution_count": 7,
     "metadata": {},
     "output_type": "execute_result"
    }
   ],
   "source": [
    "columns_we_need.keys()"
   ]
  },
  {
   "cell_type": "code",
   "execution_count": null,
   "metadata": {},
   "outputs": [],
   "source": []
  }
 ],
 "metadata": {
  "kernelspec": {
   "display_name": "Python 3",
   "language": "python",
   "name": "python3"
  },
  "language_info": {
   "codemirror_mode": {
    "name": "ipython",
    "version": 3
   },
   "file_extension": ".py",
   "mimetype": "text/x-python",
   "name": "python",
   "nbconvert_exporter": "python",
   "pygments_lexer": "ipython3",
   "version": "3.10.8"
  },
  "orig_nbformat": 4
 },
 "nbformat": 4,
 "nbformat_minor": 2
}

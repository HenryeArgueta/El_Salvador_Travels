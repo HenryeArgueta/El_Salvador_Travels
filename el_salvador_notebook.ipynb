{
 "cells": [
  {
   "cell_type": "code",
   "execution_count": 2,
   "metadata": {},
   "outputs": [],
   "source": [
    "import requests\n",
    "import pandas as pd\n",
    "import numpy as np\n",
    "import csv\n",
    "from bs4 import BeautifulSoup"
   ]
  },
  {
   "cell_type": "code",
   "execution_count": 21,
   "metadata": {},
   "outputs": [
    {
     "name": "stdout",
     "output_type": "stream",
     "text": [
      "[['RankCountry/RegionCost', 'indexØ', 'Monthly', 'incomePurchasing', 'power', 'index'], ['1Bermuda', '*157.910,437', 'USD103.8'], ['2Cayman', 'Islands', '*138.35,433', 'USD61.7'], ['3Switzerland131.47,454', 'USD89.1'], ['4Turks', 'and', 'Caicos', 'Islands', '*124.62,013', 'USD25.4'], ['5Israel123.14,554', 'USD58.1'], ['6Barbados121.81,613', 'USD20.8'], ['7Iceland120.15,685', 'USD74.3'], ['8Ireland110.66,756', 'USD96.0'], ['9Denmark109.26,100', 'USD87.8'], ['10Norway108.17,959', 'USD115.7'], ['11Australia107.05,036', 'USD74.0'], ['12Bahamas105.52,628', 'USD39.1'], ['13Vanuatu103.8297', 'USD4.5'], ['14Luxembourg103.47,600', 'USD115.5'], ['15New', 'Zealand101.44,038', 'USD62.6'], ['16Canada101.34,413', 'USD68.5'], ['17United', 'States100.06,364', 'USD100.0'], ['18United', 'Kingdom98.54,074', 'USD65.0'], ['19Finland95.64,530', 'USD74.5'], ['20Sweden93.95,249', 'USD87.9'], ['21Iran92.5325', 'USD5.5'], ['22Netherlands88.24,786', 'USD85.3'], ['23Belgium86.84,058', 'USD73.5'], ['24Japan84.93,537', 'USD65.4'], ['25France83.23,822', 'USD72.2'], ['26Austria83.14,678', 'USD88.5'], ['27Germany82.34,449', 'USD85.0'], ['28Italy75.73,142', 'USD65.2'], ['29South', 'Korea75.62,999', 'USD62.4'], ['30Hong', 'Kong', '*73.24,531', 'USD97.3'], ['31Spain73.02,640', 'USD56.9'], ['32Singapore72.15,600', 'USD122.0'], ['33Qatar69.55,875', 'USD132.8'], ['34Portugal67.92,150', 'USD49.7'], ['35United', 'Arab', 'Emirates67.24,079', 'USD95.4'], ['36Macao', '*66.73,748', 'USD88.3'], ['37Greece66.51,812', 'USD42.8'], ['38Czechia66.12,216', 'USD52.7'], ['39Costa', 'Rica59.41,056', 'USD27.9'], ['40Lithuania59.21,974', 'USD52.4'], ['41Mexico58.5868', 'USD23.3'], ['42Chile58.31,280', 'USD34.5'], ['43China57.61,071', 'USD29.2'], ['44Haiti57.6134', 'USD3.7'], ['45Croatia54.61,623', 'USD46.7'], ['46Hungary50.71,584', 'USD49.1'], ['47Brazil49.8678', 'USD21.4'], ['48Ecuador49.7526', 'USD16.6'], ['49Oman48.21,679', 'USD54.7'], ['50El', 'Salvador48.2393', 'USD12.8'], ['51Serbia47.4762', 'USD25.2'], ['52Poland46.51,529', 'USD51.7'], ['53Albania46.3564', 'USD19.2'], ['54Brunei46.02,618', 'USD89.5'], ['55Montenegro45.7867', 'USD29.8'], ['56Bulgaria44.41,104', 'USD39.1'], ['57Nigeria43.8178', 'USD6.4'], ['58Romania43.71,305', 'USD47.0'], ['59South', 'Africa42.5565', 'USD20.9'], ['60Saudi', 'Arabia42.22,299', 'USD85.5'], ['61Mauritius41.9897', 'USD33.6'], ['62East', 'Timor41.9164', 'USD6.2'], ['63Russia40.51,069', 'USD41.4'], ['64Morocco39.7309', 'USD12.2'], ['65Kenya39.4181', 'USD7.2'], ['66Colombia38.2543', 'USD22.3'], ['67Cameroon36.9138', 'USD5.9'], ['68Georgia36.7468', 'USD20.0'], ['69Philippines36.5329', 'USD14.2'], ['70Lesotho36.1105', 'USD4.6'], ['71Nicaragua35.9174', 'USD7.6'], ['72Iraq35.9439', 'USD19.2'], ['73Bangladesh35.8235', 'USD10.3'], ['74Cambodia35.8142', 'USD6.2'], ['75Malaysia35.2982', 'USD43.8'], ['76Mongolia34.8351', 'USD15.8'], ['77Thailand34.7603', 'USD27.3'], ['78Bolivia34.3288', 'USD13.2'], ['79Indonesia33.1382', 'USD18.1'], ['80Tanzania32.6100', 'USD4.8'], ['81Vietnam32.4334', 'USD16.2'], ['82Kazakhstan31.7789', 'USD39.1'], ['83Benin31.5117', 'USD5.8'], ['84Azerbaijan31.5469', 'USD23.4'], ['85Turkey30.4883', 'USD45.6'], ['86Ukraine29.5356', 'USD19.0'], ['87Algeria28.8325', 'USD17.7'], ['88Bhutan27.7253', 'USD14.3'], ['89Tunisia27.5320', 'USD18.3'], ['90Ghana27.0196', 'USD11.4'], ['91India26.9198', 'USD11.6'], ['92Kyrgyzstan26.8118', 'USD6.9'], ['93Nepal26.5112', 'USD6.6'], ['94Laos26.5197', 'USD11.7'], ['95Sri', 'Lanka26.3301', 'USD18.0'], ['96Egypt23.7342', 'USD22.7'], ['97Tajikistan23.5101', 'USD6.7'], ['98Pakistan23.1132', 'USD8.9'], ['99Myanmar22.7101', 'USD7.0'], ['100Uzbekistan21.7183', 'USD13.2']]\n",
      "['Bermuda', 'Cayman Islands', 'Switzerland', 'Turks and Caicos Islands', 'Israel', 'Barbados', 'Iceland', 'Ireland', 'Denmark', 'Norway', 'Australia', 'Bahamas', 'Vanuatu', 'Luxembourg', 'New Zealand', 'Canada', 'United States', 'United Kingdom', 'Finland', 'Sweden', 'Iran', 'Netherlands', 'Belgium', 'Japan', 'France', 'Austria', 'Germany', 'Italy', 'South Korea', 'Hong Kong', 'Spain', 'Singapore', 'Qatar', 'Portugal', 'United Arab Emirates', 'Macao', 'Greece', 'Czechia', 'Costa Rica', 'Lithuania', 'Mexico', 'Chile', 'China', 'Haiti', 'Croatia', 'Hungary', 'Brazil', 'Ecuador', 'Oman', 'El Salvador', 'Serbia', 'Poland', 'Albania', 'Brunei', 'Montenegro', 'Bulgaria', 'Nigeria', 'Romania', 'South Africa', 'Saudi Arabia', 'Mauritius', 'East Timor', 'Russia', 'Morocco', 'Kenya', 'Colombia', 'Cameroon', 'Georgia', 'Philippines', 'Lesotho', 'Nicaragua', 'Iraq', 'Bangladesh', 'Cambodia', 'Malaysia', 'Mongolia', 'Thailand', 'Bolivia', 'Indonesia', 'Tanzania', 'Vietnam', 'Kazakhstan', 'Benin', 'Azerbaijan', 'Turkey', 'Ukraine', 'Algeria', 'Bhutan', 'Tunisia', 'Ghana', 'India', 'Kyrgyzstan', 'Nepal', 'Laos', 'Sri Lanka', 'Egypt', 'Tajikistan', 'Pakistan', 'Myanmar', 'Uzbekistan', 'Palestine']\n"
     ]
    }
   ],
   "source": [
    "r = requests.get('https://www.worlddata.info/cost-of-living.php')\n",
    "soup = BeautifulSoup(r.text, 'html.parser')\n",
    "\n",
    "# world_data = [tag for tag in soup.find_all(['tr'])]\n",
    "# soup.find_all('tr')[1].text.strip()[1:8]\n",
    "\n",
    "arr = []\n",
    "clean_arr = []\n",
    "for i in range(101):\n",
    "    j = soup.find_all(['tr'])[i].text.split()\n",
    "    arr.append(j)\n",
    "\n",
    "print(arr) \n",
    "  \n",
    "\n",
    "world_data = [tag for tag in soup.find_all(['tr'])]\n",
    "arr3 = []\n",
    "\n",
    "n = 1\n",
    "while n < 102:\n",
    "    countries = world_data[n].a.text\n",
    "    n+=1\n",
    "    arr3.append(countries)\n",
    "\n",
    "print(arr3)\n"
   ]
  },
  {
   "cell_type": "markdown",
   "metadata": {},
   "source": [
    "**data from:** \n",
    "\n",
    "***https://visaguide.world/visa-free-countries/salvadoran-passport/***\n",
    "\n",
    "***https://www.worlddata.info/cost-of-living.php***\n",
    "\n",
    "\n"
   ]
  },
  {
   "cell_type": "code",
   "execution_count": 18,
   "metadata": {},
   "outputs": [
    {
     "name": "stdout",
     "output_type": "stream",
     "text": [
      "['Bermuda', 'Cayman Islands', 'Switzerland', 'Turks and Caicos Islands', 'Israel', 'Barbados', 'Iceland', 'Ireland', 'Denmark', 'Norway', 'Australia', 'Bahamas', 'Vanuatu', 'Luxembourg', 'New Zealand', 'Canada', 'United States', 'United Kingdom', 'Finland', 'Sweden', 'Iran', 'Netherlands', 'Belgium', 'Japan', 'France', 'Austria', 'Germany', 'Italy', 'South Korea', 'Hong Kong', 'Spain', 'Singapore', 'Qatar', 'Portugal', 'United Arab Emirates', 'Macao', 'Greece', 'Czechia', 'Costa Rica', 'Lithuania', 'Mexico', 'Chile', 'China', 'Haiti', 'Croatia', 'Hungary', 'Brazil', 'Ecuador', 'Oman', 'El Salvador', 'Serbia', 'Poland', 'Albania', 'Brunei', 'Montenegro', 'Bulgaria', 'Nigeria', 'Romania', 'South Africa', 'Saudi Arabia', 'Mauritius', 'East Timor', 'Russia', 'Morocco', 'Kenya', 'Colombia', 'Cameroon', 'Georgia', 'Philippines', 'Lesotho', 'Nicaragua', 'Iraq', 'Bangladesh', 'Cambodia', 'Malaysia', 'Mongolia', 'Thailand', 'Bolivia', 'Indonesia', 'Tanzania', 'Vietnam', 'Kazakhstan', 'Benin', 'Azerbaijan', 'Turkey', 'Ukraine', 'Algeria', 'Bhutan', 'Tunisia', 'Ghana', 'India', 'Kyrgyzstan', 'Nepal', 'Laos', 'Sri Lanka', 'Egypt', 'Tajikistan', 'Pakistan', 'Myanmar', 'Uzbekistan', 'Palestine']\n"
     ]
    }
   ],
   "source": [
    "# print(world_data[i:i].find_all(['td'])[1].text.strip())\n",
    "# world_data_copy = world_data\n",
    "# print(world_data[1].text)\n",
    "\n",
    "world_data = [tag for tag in soup.find_all(['tr'])]\n",
    "arr3 = []\n",
    "\n",
    "n = 1\n",
    "while n < 102:\n",
    "    countries = world_data[n].a.text\n",
    "    n+=1\n",
    "    arr3.append(countries)\n",
    "\n",
    "print(arr3)\n",
    "\n",
    "# arr.append(world_data[1].a.text.strip())\n",
    "# print(arr)\n",
    "\n",
    "# list(soup.children)\n",
    "    \n",
    "# for f in world_data[1].findAll(['td'])[1].text.strip()\n",
    "\n",
    "# countries = []\n",
    "# for i in world_data_copy:\n",
    "#     h = str(world_data[int(i)].a.text.strip())\n",
    "#     countries.append(h)\n"
   ]
  },
  {
   "cell_type": "code",
   "execution_count": null,
   "metadata": {},
   "outputs": [],
   "source": [
    "r = requests.get('https://visaguide.world/visa-free-countries/salvadoran-passport/')\n",
    "soup = BeautifulSoup(r.text, 'html.parser')\n",
    "\n",
    "print(soup.find('ul'))"
   ]
  },
  {
   "cell_type": "code",
   "execution_count": null,
   "metadata": {},
   "outputs": [],
   "source": []
  }
 ],
 "metadata": {
  "kernelspec": {
   "display_name": "Python 3",
   "language": "python",
   "name": "python3"
  },
  "language_info": {
   "codemirror_mode": {
    "name": "ipython",
    "version": 3
   },
   "file_extension": ".py",
   "mimetype": "text/x-python",
   "name": "python",
   "nbconvert_exporter": "python",
   "pygments_lexer": "ipython3",
   "version": "3.10.8"
  },
  "orig_nbformat": 4
 },
 "nbformat": 4,
 "nbformat_minor": 2
}

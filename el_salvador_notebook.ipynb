{
 "cells": [
  {
   "cell_type": "markdown",
   "metadata": {},
   "source": [
    "*OBjective: Find where can El Salvador citizens travel without the need of a visa, and provide recommendations based on different factors of living conditions.* "
   ]
  },
  {
   "cell_type": "markdown",
   "metadata": {},
   "source": [
    "**data from:** \n",
    "\n",
    "***https://visaguide.world/visa-free-countries/salvadoran-passport/***\n",
    "\n",
    "***https://www.worlddata.info/cost-of-living.php***\n",
    "\n",
    "\n",
    "Notes: found a better more resourceful website:\n",
    "https://www.numbeo.com/cost-of-living/"
   ]
  },
  {
   "cell_type": "code",
   "execution_count": 2,
   "metadata": {},
   "outputs": [],
   "source": [
    "import requests\n",
    "import re\n",
    "import pandas as pd\n",
    "import numpy as np\n",
    "import csv\n",
    "from bs4 import BeautifulSoup"
   ]
  },
  {
   "cell_type": "code",
   "execution_count": 3,
   "metadata": {},
   "outputs": [],
   "source": [
    "headers = {\n",
    "    'User-Agent': 'Mozilla/5.0 (Windows NT 10.0; Win64; x64) AppleWebKit/537.36 (KHTML, like Gecko) Chrome/100.0.1234.56 Safari/537.36',\n",
    "    'Accept-Language': 'en-US,en;q=0.9',\n",
    "    'Referer': 'https://www.google.com/',  # Replace with a commonly visited website\n",
    "    'Connection': 'keep-alive',\n",
    "}\n",
    "\n",
    "r  = requests.get('https://www.numbeo.com/quality-of-life/rankings_by_country.jsp', headers=headers)\n",
    "r2 = requests.get('https://www.numbeo.com/cost-of-living/',headers=headers)\n",
    "r3 = requests.get('https://visaguide.world/visa-free-countries/salvadoran-passport/',headers=headers)\n",
    "column_soup  = BeautifulSoup(r.text, 'html.parser')\n",
    "country_soup = BeautifulSoup(r2.text, 'html.parser')\n",
    "visa_free_soup = BeautifulSoup(r3.text, 'html.parser')\n",
    "\n",
    "data_for_column_names  = [tag for tag in column_soup.find_all(['th'])]\n",
    "data_for_country_rows  = [tag for tag in country_soup.find_all(['h4','a'])]\n",
    "es_visa_free_countries = [tag for tag in visa_free_soup.find_all(attrs={'ns_has-flag'})] \n",
    "\n"
   ]
  },
  {
   "cell_type": "code",
   "execution_count": 4,
   "metadata": {},
   "outputs": [
    {
     "name": "stdout",
     "output_type": "stream",
     "text": [
      "r status code = 200\n",
      "r2 status code = 200\n",
      "r3 status code = 200\n"
     ]
    }
   ],
   "source": [
    "\n",
    "print(f'r status code = {r.status_code}\\nr2 status code = {r2.status_code}\\nr3 status code = {r3.status_code}')"
   ]
  },
  {
   "cell_type": "code",
   "execution_count": 5,
   "metadata": {},
   "outputs": [],
   "source": [
    "columns_we_need           = [] # made an empty array bucket to store the scraped column names\n",
    "country_rows              = [] # made an empty bucket for the countries\n",
    "without_visa_countries    = [] \n",
    "evisa_countries           = []\n",
    "visa_at_arrival_countries = []\n",
    "visa_required_countries   = []\n",
    "more_columns           = ['Visa Free Countries',\n",
    "                          'eVisa Countries', \n",
    "                          'Visa on Arrival Countries',\n",
    "                          'Visa Required Countries'\n",
    "                          ]\n",
    "\n",
    "# (column_names2) | adds names of columns we'll be using to empty array \n",
    "o = 0\n",
    "while o < len(data_for_column_names):\n",
    "    column_data = data_for_column_names[o].text\n",
    "    o+=1\n",
    "    columns_we_need.append(column_data)\n",
    "\n",
    "# added more columns to insert values from Visaguide.world\n",
    "start = 0\n",
    "while start < len(more_columns):\n",
    "    data = more_columns[start]\n",
    "    columns_we_need.append(data)\n",
    "    start+=1\n",
    "    \n",
    "# made the array bucket into a dictionary      \n",
    "columns_we_need = {key: [] for key in columns_we_need}\n",
    " \n",
    "# takes the soup data and gets the text from the arrays\n",
    "# and stores the clean data into a new array\n",
    "n = 65\n",
    "while n < len(data_for_country_rows):\n",
    "    country_data_in = data_for_country_rows[n].text\n",
    "\n",
    "    if len(country_data_in) < 2:\n",
    "        n+=1\n",
    "        continue\n",
    "    country_rows.append(country_data_in)\n",
    "    n+=1\n",
    "\n",
    "# (Country) adds values to dictionary \n",
    "country_rows = country_rows[:-11]\n",
    "for value in country_rows:\n",
    "    columns_we_need['Country'].append(value)\n",
    "\n",
    "\n",
    "# (No Visa Countries) countries El Salvador can travel to without a visa\n",
    "for i in range(len(es_visa_free_countries[:100])):\n",
    "    visa_free_countries = es_visa_free_countries[i].text\n",
    "    without_visa_countries.append(visa_free_countries)\n",
    "for countries in without_visa_countries:\n",
    "    columns_we_need['Visa Free Countries'].append(countries)\n",
    "\n",
    "\n",
    "# (eVisa Countries) Countries that provide eVisa to Salvadoran Citizens\n",
    "q = 100\n",
    "while q < len(es_visa_free_countries[:128]):\n",
    "    evisa = es_visa_free_countries[q].text\n",
    "    evisa_countries.append(evisa)\n",
    "    q+=1\n",
    "for countries in evisa_countries:\n",
    "    columns_we_need['eVisa Countries'].append(countries)\n",
    "\n",
    "# (Visa upon Arrival) Countries that provide visa upon arrival\n",
    "for s in range(128,158):\n",
    "    visa_at_arrival_data = es_visa_free_countries[s].text\n",
    "    visa_at_arrival_countries.append(visa_at_arrival_data)\n",
    "    \n",
    "for countries in visa_at_arrival_countries:\n",
    "    columns_we_need['Visa on Arrival Countries'].append(countries)\n",
    "\n",
    "\n",
    "# (Visa Required) Countries that require a visa to visit\n",
    "for i in range(158,226):\n",
    "    visa_req_data = es_visa_free_countries[i].text\n",
    "    visa_required_countries.append(visa_req_data)\n",
    "for countries in visa_required_countries:\n",
    "    columns_we_need['Visa Required Countries'].append(countries)\n",
    "    \n",
    "# (Rank) Country Rank\n",
    "# for ranks in columns_we_need['Country']:\n",
    "    "
   ]
  },
  {
   "cell_type": "code",
   "execution_count": 6,
   "metadata": {},
   "outputs": [
    {
     "data": {
      "text/plain": [
       "dict_keys(['Rank', 'Country', 'Quality of Life Index', 'Purchasing Power Index', 'Safety Index', 'Health Care Index', 'Cost of Living Index', 'Property Price to Income Ratio', 'Traffic Commute Time Index', 'Pollution Index', 'Climate Index', 'Visa Free Countries', 'eVisa Countries', 'Visa on Arrival Countries', 'Visa Required Countries'])"
      ]
     },
     "execution_count": 6,
     "metadata": {},
     "output_type": "execute_result"
    }
   ],
   "source": [
    "columns_we_need.keys()"
   ]
  },
  {
   "cell_type": "code",
   "execution_count": 7,
   "metadata": {},
   "outputs": [
    {
     "data": {
      "text/plain": [
       "235"
      ]
     },
     "execution_count": 7,
     "metadata": {},
     "output_type": "execute_result"
    }
   ],
   "source": [
    "len(columns_we_need['Country'])"
   ]
  },
  {
   "cell_type": "code",
   "execution_count": 8,
   "metadata": {},
   "outputs": [
    {
     "data": {
      "text/plain": [
       "[<td class=\"cityOrCountryInIndicesTable\">Luxembourg</td>,\n",
       " <td style=\"text-align: right\">200.1</td>,\n",
       " <td style=\"text-align: right\">133.2</td>,\n",
       " <td style=\"text-align: right\">66.0</td>,\n",
       " <td style=\"text-align: right\">77.3</td>,\n",
       " <td style=\"text-align: right\">71.7</td>,\n",
       " <td style=\"text-align: right\">10.1</td>,\n",
       " <td style=\"text-align: right\">25.4</td>,\n",
       " <td style=\"text-align: right\">22.1</td>,\n",
       " <td style=\"text-align: right\">82.6</td>]"
      ]
     },
     "execution_count": 8,
     "metadata": {},
     "output_type": "execute_result"
    }
   ],
   "source": [
    "\n",
    "soup =  column_soup.find_all(['tr','td'])\n",
    "soup[6:16]\n"
   ]
  },
  {
   "cell_type": "code",
   "execution_count": 9,
   "metadata": {},
   "outputs": [],
   "source": [
    "\n",
    "empty = []\n",
    "empty_clean = []\n",
    "starting = 6\n",
    "for i in range(1006):\n",
    "    soup_data = soup[starting].text\n",
    "    starting+=1\n",
    "    empty.append(soup_data)\n",
    "    if soup_data == '':\n",
    "        empty.remove(soup_data)\n",
    "\n",
    "\n",
    "for spot in range(len(empty)):\n",
    "    if(spot+1) % 11 == 0:\n",
    "        continue\n",
    "    else:\n",
    "        extract = empty[spot]\n",
    "        empty_clean.append(extract)\n",
    "\n",
    "    \n",
    "    # for countries in columns_we_need['Country']:\n",
    "        \n"
   ]
  },
  {
   "cell_type": "code",
   "execution_count": 14,
   "metadata": {},
   "outputs": [
    {
     "name": "stdout",
     "output_type": "stream",
     "text": [
      "235\n",
      "['Afghanistan', 'Aland Islands', 'Albania', 'Alderney', 'Algeria', 'American Samoa', 'Andorra', 'Angola', 'Anguilla', 'Antigua And Barbuda', 'Argentina', 'Armenia', 'Aruba', 'Australia', 'Austria', 'Azerbaijan', 'Bahamas', 'Bahrain', 'Bangladesh', 'Barbados', 'Belarus', 'Belgium', 'Belize', 'Benin', 'Bermuda', 'Bhutan', 'Bolivia', 'Bonaire', 'Bosnia And Herzegovina', 'Botswana', 'Brazil', 'British Virgin Islands', 'Brunei', 'Bulgaria', 'Burkina Faso', 'Burundi', 'Cambodia', 'Cameroon', 'Canada', 'Cape Verde', 'Cayman Islands', 'Central African Republic', 'Chad', 'Chile', 'China', 'Colombia', 'Comoros', 'Cook Islands', 'Costa Rica', 'Croatia', 'Cuba', 'Curacao', 'Cyprus', 'Czech Republic', 'Democratic Republic of the Congo', 'Denmark', 'Djibouti', 'Dominica', 'Dominican Republic', 'Ecuador', 'Egypt', 'El Salvador', 'Equatorial Guinea', 'Eritrea', 'Estonia', 'Ethiopia', 'Falkland Islands', 'Faroe Islands', 'Fiji', 'Finland', 'France', 'French Guiana', 'French Polynesia', 'French Southern Territories', 'Gabon', 'Gambia', 'Georgia', 'Germany', 'Ghana', 'Gibraltar', 'Greece', 'Greenland', 'Grenada', 'Guadeloupe', 'Guam', 'Guatemala', 'Guernsey', 'Guinea', 'Guinea-Bissau', 'Guyana', 'Haiti', 'Honduras', 'Hong Kong (China)', 'Hungary', 'Iceland', 'India', 'Indonesia', 'Iran', 'Iraq', 'Ireland', 'Isle Of Man', 'Israel', 'Italy', 'Ivory Coast', 'Jamaica', 'Japan', 'Jersey', 'Jordan', 'Kazakhstan', 'Kenya', 'Kiribati', 'Kosovo (Disputed Territory)', 'Kuwait', 'Kyrgyzstan', 'Laos', 'Latvia', 'Lebanon', 'Lesotho', 'Liberia', 'Libya', 'Liechtenstein', 'Lithuania', 'Luxembourg', 'Macao (China)', 'Madagascar', 'Malawi', 'Malaysia', 'Maldives', 'Mali', 'Malta', 'Marshall Islands', 'Martinique', 'Mauritania', 'Mauritius', 'Mexico', 'Micronesia', 'Moldova', 'Monaco', 'Mongolia', 'Montenegro', 'Montserrat', 'Morocco', 'Mozambique', 'Myanmar', 'Namibia', 'Nauru', 'Nepal', 'Netherlands', 'New Caledonia', 'New Zealand', 'Nicaragua', 'Niger', 'Nigeria', 'Norfolk Island', 'North Korea', 'North Macedonia', 'Northern Mariana Islands', 'Norway', 'Oman', 'Pakistan', 'Palau', 'Palestine', 'Panama', 'Papua New Guinea', 'Paraguay', 'Peru', 'Philippines', 'Poland', 'Portugal', 'Puerto Rico', 'Qatar', 'Republic of the Congo', 'Reunion', 'Romania', 'Russia', 'Rwanda', 'Saint Helena', 'Saint Kitts And Nevis', 'Saint Lucia', 'Saint Vincent And The Grenadines', 'Saint-Pierre And Miquelon', 'Samoa', 'San Marino', 'Sao Tome And Principe', 'Saudi Arabia', 'Senegal', 'Serbia', 'Seychelles', 'Sierra Leone', 'Singapore', 'Sint Maarten', 'Slovakia', 'Slovenia', 'Solomon Islands', 'Somalia', 'South Africa', 'South Korea', 'South Sudan', 'Spain', 'Sri Lanka', 'Sudan', 'Suriname', 'Swaziland', 'Sweden', 'Switzerland', 'Syria', 'Taiwan', 'Tajikistan', 'Tanzania', 'Thailand', 'Timor-Leste', 'Togo', 'Tonga', 'Trinidad And Tobago', 'Tunisia', 'Turkey', 'Turkmenistan', 'Turks And Caicos Islands', 'Tuvalu', 'Uganda', 'Ukraine', 'United Arab Emirates', 'United Kingdom', 'United States', 'Uruguay', 'Us Virgin Islands', 'Uzbekistan', 'Vanuatu', 'Venezuela', 'Vietnam', 'Wallis And Futuna', 'Western Sahara', 'Yemen', 'Zambia', 'Zimbabwe']\n",
      "['Albania', 'Andorra', 'Anguilla', 'Argentina', 'Aruba', 'Austria', 'Bahamas', 'Barbados', 'Belarus', 'Belgium', 'Belize', 'Bermuda', 'Caribbean Netherlands', 'Bosnia and Herzegovina', 'Brazil', 'British Virgin Islands', 'Bulgaria', 'Chile', 'Colombia', 'Cook Islands', 'Costa Rica', 'Croatia', 'Curaçao', 'Cyprus', 'Czechia', 'Denmark', 'Dominica', 'Dominican Republic', 'Ecuador', 'Estonia', 'Faroe Islands', 'Finland', 'France', 'French Guiana', 'French Polynesia', 'French West Indies', 'Georgia', 'Germany', 'Gibraltar', 'Greece', 'Greenland', 'Guatemala', 'Haiti', 'Honduras', 'Hong Kong', 'Hungary', 'Iceland', 'Ireland', 'Israel', 'Italy', 'Jamaica', 'Japan', 'Kosovo', 'Latvia', 'Liechtenstein', 'Lithuania', 'Luxembourg', 'Malaysia', 'Malta', 'Mauritius', 'Mayotte', 'Micronesia', 'Moldova', 'Monaco', 'Montenegro', 'Netherlands', 'New Caledonia', 'Nicaragua', 'Niue', 'North Macedonia', 'Norway', 'Oman', 'Palestine', 'Panama', 'Paraguay', 'Philippines', 'Poland', 'Portugal', 'Réunion', 'Romania', 'Russia', 'Samoa', 'San Marino', 'Singapore', 'Slovakia', 'Slovenia', 'South Korea', 'Spain', 'Saint Kitts and Nevis', 'Saint Martin', 'Saint Vincent and the Grenadines', 'Suriname', 'Sweden', 'Switzerland', 'Trinidad and Tobago', 'Türkiye', 'United Arab Emirates', 'Uruguay', 'Uzbekistan', 'Vatican City']\n"
     ]
    }
   ],
   "source": [
    "print(len(columns_we_need['Country']))\n",
    "print(columns_we_need['Country'])\n",
    "print(columns_we_need['Visa Free Countries'])"
   ]
  },
  {
   "cell_type": "code",
   "execution_count": 12,
   "metadata": {},
   "outputs": [
    {
     "data": {
      "text/plain": [
       "'Albania'"
      ]
     },
     "execution_count": 12,
     "metadata": {},
     "output_type": "execute_result"
    }
   ],
   "source": [
    "columns_we_need['Country'][1] == empty_clean[]"
   ]
  },
  {
   "cell_type": "code",
   "execution_count": null,
   "metadata": {},
   "outputs": [],
   "source": []
  }
 ],
 "metadata": {
  "kernelspec": {
   "display_name": "Python 3",
   "language": "python",
   "name": "python3"
  },
  "language_info": {
   "codemirror_mode": {
    "name": "ipython",
    "version": 3
   },
   "file_extension": ".py",
   "mimetype": "text/x-python",
   "name": "python",
   "nbconvert_exporter": "python",
   "pygments_lexer": "ipython3",
   "version": "3.10.7"
  },
  "orig_nbformat": 4
 },
 "nbformat": 4,
 "nbformat_minor": 2
}

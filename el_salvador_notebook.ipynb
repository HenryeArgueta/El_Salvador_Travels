{
 "cells": [
  {
   "cell_type": "markdown",
   "metadata": {},
   "source": [
    "*OBjective: Find where can El Salvador citizens travel without the need of a visa, and provide recommendations based on different factors of living conditions.* "
   ]
  },
  {
   "cell_type": "markdown",
   "metadata": {},
   "source": [
    "**data from:** \n",
    "\n",
    "***https://visaguide.world/visa-free-countries/salvadoran-passport/***\n",
    "\n",
    "***https://www.worlddata.info/cost-of-living.php***\n",
    "\n",
    "\n",
    "Notes: found a better more resourceful website:\n",
    "https://www.numbeo.com/cost-of-living/"
   ]
  },
  {
   "cell_type": "code",
   "execution_count": 2,
   "metadata": {},
   "outputs": [],
   "source": [
    "import requests\n",
    "import re\n",
    "import pandas as pd\n",
    "import numpy as np\n",
    "import csv\n",
    "from bs4 import BeautifulSoup"
   ]
  },
  {
   "cell_type": "code",
   "execution_count": 3,
   "metadata": {},
   "outputs": [],
   "source": [
    "headers = {\n",
    "    'User-Agent': 'Mozilla/5.0 (Windows NT 10.0; Win64; x64) AppleWebKit/537.36 (KHTML, like Gecko) Chrome/100.0.1234.56 Safari/537.36',\n",
    "    'Accept-Language': 'en-US,en;q=0.9',\n",
    "    'Referer': 'https://www.google.com/',  # Replace with a commonly visited website\n",
    "    'Connection': 'keep-alive',\n",
    "}\n",
    "\n",
    "r  = requests.get('https://www.numbeo.com/quality-of-life/rankings_by_country.jsp', headers=headers)\n",
    "r2 = requests.get('https://www.numbeo.com/cost-of-living/',headers=headers)\n",
    "r3 = requests.get('https://visaguide.world/visa-free-countries/salvadoran-passport/',headers=headers)\n",
    "column_soup  = BeautifulSoup(r.text, 'html.parser')\n",
    "country_soup = BeautifulSoup(r2.text, 'html.parser')\n",
    "visa_free_soup = BeautifulSoup(r3.text, 'html.parser')\n",
    "\n",
    "data_for_column_names  = [tag for tag in column_soup.find_all(['th'])]\n",
    "data_for_country_rows  = [tag for tag in country_soup.find_all(['h4','a'])]\n",
    "es_visa_free_countries = [tag for tag in visa_free_soup.find_all(attrs={'ns_has-flag'})] \n",
    "\n"
   ]
  },
  {
   "cell_type": "code",
   "execution_count": 4,
   "metadata": {},
   "outputs": [
    {
     "name": "stdout",
     "output_type": "stream",
     "text": [
      "r status code = 200\n",
      "r2 status code = 200\n",
      "r3 status code = 200\n"
     ]
    }
   ],
   "source": [
    "\n",
    "print(f'r status code = {r.status_code}\\nr2 status code = {r2.status_code}\\nr3 status code = {r3.status_code}')"
   ]
  },
  {
   "cell_type": "code",
   "execution_count": 5,
   "metadata": {},
   "outputs": [],
   "source": [
    "columns_we_need           = [] # made an empty array bucket to store the scraped column names\n",
    "country_rows              = [] # made an empty bucket for the countries\n",
    "without_visa_countries    = [] \n",
    "evisa_countries           = []\n",
    "visa_at_arrival_countries = []\n",
    "visa_required_countries   = []\n",
    "more_columns           = ['Visa Free Countries',\n",
    "                          'eVisa Countries', \n",
    "                          'Visa on Arrival Countries',\n",
    "                          'Visa Required Countries'\n",
    "                          ]\n",
    "\n",
    "# (column_names2) | adds names of columns we'll be using to empty array \n",
    "o = 0\n",
    "while o < len(data_for_column_names):\n",
    "    column_data = data_for_column_names[o].text\n",
    "    o+=1\n",
    "    columns_we_need.append(column_data)\n",
    "\n",
    "# added more columns to insert values from Visaguide.world\n",
    "start = 0\n",
    "while start < len(more_columns):\n",
    "    data = more_columns[start]\n",
    "    columns_we_need.append(data)\n",
    "    start+=1\n",
    "    \n",
    "# made the array bucket into a dictionary      \n",
    "columns_we_need = {key: [] for key in columns_we_need}\n",
    " \n",
    "# takes the soup data and gets the text from the arrays\n",
    "# and stores the clean data into a new array\n",
    "n = 65\n",
    "while n < len(data_for_country_rows):\n",
    "    country_data_in = data_for_country_rows[n].text\n",
    "\n",
    "    if len(country_data_in) < 2:\n",
    "        n+=1\n",
    "        continue\n",
    "    country_rows.append(country_data_in)\n",
    "    n+=1\n",
    "\n",
    "# (Country) adds values to dictionary \n",
    "country_rows = country_rows[:-11]\n",
    "for value in country_rows:\n",
    "    columns_we_need['Country'].append(value)\n",
    "\n",
    "\n",
    "# (No Visa Countries) countries El Salvador can travel to without a visa\n",
    "for i in range(len(es_visa_free_countries[:100])):\n",
    "    visa_free_countries = es_visa_free_countries[i].text\n",
    "    without_visa_countries.append(visa_free_countries)\n",
    "for countries in without_visa_countries:\n",
    "    columns_we_need['Visa Free Countries'].append(countries)\n",
    "\n",
    "\n",
    "# (eVisa Countries) Countries that provide eVisa to Salvadoran Citizens\n",
    "q = 100\n",
    "while q < len(es_visa_free_countries[:128]):\n",
    "    evisa = es_visa_free_countries[q].text\n",
    "    evisa_countries.append(evisa)\n",
    "    q+=1\n",
    "for countries in evisa_countries:\n",
    "    columns_we_need['eVisa Countries'].append(countries)\n",
    "\n",
    "# (Visa upon Arrival) Countries that provide visa upon arrival\n",
    "for s in range(128,158):\n",
    "    visa_at_arrival_data = es_visa_free_countries[s].text\n",
    "    visa_at_arrival_countries.append(visa_at_arrival_data)\n",
    "    \n",
    "for countries in visa_at_arrival_countries:\n",
    "    columns_we_need['Visa on Arrival Countries'].append(countries)\n",
    "\n",
    "\n",
    "# (Visa Required) Countries that require a visa to visit\n",
    "for i in range(158,226):\n",
    "    visa_req_data = es_visa_free_countries[i].text\n",
    "    visa_required_countries.append(visa_req_data)\n",
    "for countries in visa_required_countries:\n",
    "    columns_we_need['Visa Required Countries'].append(countries)\n",
    "    \n",
    "# (Rank) Country Rank\n",
    "# for ranks in columns_we_need['Country']:\n",
    "    "
   ]
  },
  {
   "cell_type": "code",
   "execution_count": 6,
   "metadata": {},
   "outputs": [
    {
     "data": {
      "text/plain": [
       "dict_keys(['Rank', 'Country', 'Quality of Life Index', 'Purchasing Power Index', 'Safety Index', 'Health Care Index', 'Cost of Living Index', 'Property Price to Income Ratio', 'Traffic Commute Time Index', 'Pollution Index', 'Climate Index', 'Visa Free Countries', 'eVisa Countries', 'Visa on Arrival Countries', 'Visa Required Countries'])"
      ]
     },
     "execution_count": 6,
     "metadata": {},
     "output_type": "execute_result"
    }
   ],
   "source": [
    "columns_we_need.keys()"
   ]
  },
  {
   "cell_type": "code",
   "execution_count": 7,
   "metadata": {},
   "outputs": [
    {
     "data": {
      "text/plain": [
       "235"
      ]
     },
     "execution_count": 7,
     "metadata": {},
     "output_type": "execute_result"
    }
   ],
   "source": [
    "len(columns_we_need['Country'])"
   ]
  },
  {
   "cell_type": "code",
   "execution_count": 8,
   "metadata": {},
   "outputs": [
    {
     "data": {
      "text/plain": [
       "[<td class=\"cityOrCountryInIndicesTable\">Luxembourg</td>,\n",
       " <td style=\"text-align: right\">200.1</td>,\n",
       " <td style=\"text-align: right\">133.2</td>,\n",
       " <td style=\"text-align: right\">66.0</td>,\n",
       " <td style=\"text-align: right\">77.3</td>,\n",
       " <td style=\"text-align: right\">71.7</td>,\n",
       " <td style=\"text-align: right\">10.1</td>,\n",
       " <td style=\"text-align: right\">25.4</td>,\n",
       " <td style=\"text-align: right\">22.1</td>,\n",
       " <td style=\"text-align: right\">82.6</td>]"
      ]
     },
     "execution_count": 8,
     "metadata": {},
     "output_type": "execute_result"
    }
   ],
   "source": [
    "\n",
    "soup =  column_soup.find_all(['tr','td'])\n",
    "soup[6:16]\n"
   ]
  },
  {
   "cell_type": "code",
   "execution_count": 9,
   "metadata": {},
   "outputs": [],
   "source": [
    "\n",
    "empty = []\n",
    "starting = 6\n",
    "for i in range(1006):\n",
    "    soup_data = soup[starting].text\n",
    "    starting+=1\n",
    "    empty.append(soup_data)\n",
    "    if soup_data == '':\n",
    "        empty.remove(soup_data)\n",
    "\n",
    "for element in range(len(empty),1,10):\n",
    "    print(element)\n",
    "\n",
    "    \n",
    "\n",
    "# x= 10\n",
    "# while x < len(empty):\n",
    "#     del empty[x]\n",
    "#     x+=5      \n",
    "# del empty[-2:]\n",
    "\n",
    "# for element in empty:\n",
    "#     if element == '':\n",
    "#         empty.remove(element)\n",
    "\n"
   ]
  },
  {
   "cell_type": "code",
   "execution_count": 1,
   "metadata": {},
   "outputs": [
    {
     "ename": "NameError",
     "evalue": "name 'n' is not defined",
     "output_type": "error",
     "traceback": [
      "\u001b[0;31m---------------------------------------------------------------------------\u001b[0m",
      "\u001b[0;31mNameError\u001b[0m                                 Traceback (most recent call last)",
      "\u001b[1;32m/workspaces/El_Salvador_Travels/el_salvador_notebook.ipynb Cell 11\u001b[0m line \u001b[0;36m1\n\u001b[0;32m----> <a href='vscode-notebook-cell://codespaces%2Banimated-space-barnacle-gvw9g6pgpq29xr4/workspaces/El_Salvador_Travels/el_salvador_notebook.ipynb#X13sdnNjb2RlLXJlbW90ZQ%3D%3D?line=0'>1</a>\u001b[0m \u001b[39mwhile\u001b[39;00m n \u001b[39m<\u001b[39m \u001b[39mlen\u001b[39m(empty):\n\u001b[1;32m      <a href='vscode-notebook-cell://codespaces%2Banimated-space-barnacle-gvw9g6pgpq29xr4/workspaces/El_Salvador_Travels/el_salvador_notebook.ipynb#X13sdnNjb2RlLXJlbW90ZQ%3D%3D?line=1'>2</a>\u001b[0m     \u001b[39mprint\u001b[39m(empty[n])\n",
      "\u001b[0;31mNameError\u001b[0m: name 'n' is not defined"
     ]
    }
   ],
   "source": [
    "while n < len(empty):\n",
    "    print(empty[n])\n",
    "    "
   ]
  },
  {
   "cell_type": "code",
   "execution_count": 29,
   "metadata": {},
   "outputs": [
    {
     "data": {
      "text/plain": [
       "'\\n\\nFinland\\n188.1\\n93.8\\n73.5\\n77.5\\n68.7\\n8.1\\n26.4\\n11.8\\n56.6\\n'"
      ]
     },
     "execution_count": 29,
     "metadata": {},
     "output_type": "execute_result"
    }
   ],
   "source": [
    "\n",
    "empty[43]"
   ]
  },
  {
   "cell_type": "code",
   "execution_count": 11,
   "metadata": {},
   "outputs": [
    {
     "data": {
      "text/plain": [
       "792"
      ]
     },
     "execution_count": 11,
     "metadata": {},
     "output_type": "execute_result"
    }
   ],
   "source": [
    "len(empty)"
   ]
  },
  {
   "cell_type": "code",
   "execution_count": null,
   "metadata": {},
   "outputs": [],
   "source": []
  }
 ],
 "metadata": {
  "kernelspec": {
   "display_name": "Python 3",
   "language": "python",
   "name": "python3"
  },
  "language_info": {
   "codemirror_mode": {
    "name": "ipython",
    "version": 3
   },
   "file_extension": ".py",
   "mimetype": "text/x-python",
   "name": "python",
   "nbconvert_exporter": "python",
   "pygments_lexer": "ipython3",
   "version": "3.10.8"
  },
  "orig_nbformat": 4
 },
 "nbformat": 4,
 "nbformat_minor": 2
}

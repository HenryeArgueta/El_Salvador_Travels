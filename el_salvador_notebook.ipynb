{
 "cells": [
  {
   "cell_type": "markdown",
   "metadata": {},
   "source": [
    "*OBjective: Find where can El Salvador citizens travel without the need of a visa, and provide recommendations based on different factors of living conditions.* "
   ]
  },
  {
   "cell_type": "markdown",
   "metadata": {},
   "source": [
    "**data from:** \n",
    "\n",
    "***https://visaguide.world/visa-free-countries/salvadoran-passport/***\n",
    "\n",
    "***https://www.worlddata.info/cost-of-living.php***\n",
    "\n",
    "\n",
    "Notes: found a better more resourceful website:\n",
    "https://www.numbeo.com/cost-of-living/"
   ]
  },
  {
   "cell_type": "code",
   "execution_count": 2,
   "metadata": {},
   "outputs": [],
   "source": [
    "import requests\n",
    "import re\n",
    "import pandas as pd\n",
    "import numpy as np\n",
    "import csv\n",
    "from bs4 import BeautifulSoup"
   ]
  },
  {
   "cell_type": "code",
   "execution_count": 10,
   "metadata": {},
   "outputs": [],
   "source": [
    "r  = requests.get('https://www.numbeo.com/quality-of-life/rankings_by_country.jsp')\n",
    "r2 = requests.get('https://www.numbeo.com/cost-of-living/')\n",
    "r3 = requests.get('https://visaguide.world/visa-free-countries/salvadoran-passport/')\n",
    "column_soup  = BeautifulSoup(r.text, 'html.parser')\n",
    "country_soup = BeautifulSoup(r2.text, 'html.parser')\n",
    "visa_free_soup = BeautifulSoup(r3.text, 'html.parser')\n",
    "\n",
    "data_for_column_names  = [tag for tag in column_soup.find_all(['th'])]\n",
    "data_for_country_rows  = [tag for tag in country_soup.find_all(['h4','a'])]\n",
    "es_visa_free_countries = [tag for tag in visa_free_soup.find_all(attrs={'ns_has-flag'})] \n",
    "\n"
   ]
  },
  {
   "cell_type": "code",
   "execution_count": 14,
   "metadata": {},
   "outputs": [
    {
     "name": "stdout",
     "output_type": "stream",
     "text": [
      "r status code = 200\n",
      "r2 status code = 200\n",
      "r3 status code = 403\n"
     ]
    }
   ],
   "source": [
    "# evisa_countries = []\n",
    "\n",
    "# # q = 100\n",
    "# # while q < len(es_visa_free_countries[:128]):\n",
    "# #     evisa = es_visa_free_countries[q].text\n",
    "# #     evisa_countries.append(evisa)\n",
    "# #     q+=1\n",
    "    \n",
    "# # print(evisa_countries)\n",
    "\n",
    "print(f'r status code = {r.status_code}\\nr2 status code = {r2.status_code}\\nr3 status code = {r3.status_code}')"
   ]
  },
  {
   "cell_type": "code",
   "execution_count": 5,
   "metadata": {},
   "outputs": [
    {
     "data": {
      "text/plain": [
       "[]"
      ]
     },
     "execution_count": 5,
     "metadata": {},
     "output_type": "execute_result"
    }
   ],
   "source": [
    "column_names2          = [] # made an empty array bucket to store the scraped column names\n",
    "country_rows           = [] # made an empty bucket for the countries\n",
    "without_visa_countries = [] \n",
    "evisa_countries        = []\n",
    "\n",
    "\n",
    "# made a while loop because my for loop was giving me errors. \n",
    "# while loop goes from index ZERO to the length of stored data \n",
    "# in the array bucket created \n",
    "o = 0\n",
    "while o < len(data_for_column_names):\n",
    "    column_data = data_for_column_names[o].text\n",
    "    o+=1\n",
    "    column_names2.append(column_data)\n",
    "\n",
    "# made the array bucket into a dictionary      \n",
    "column_names2 = {key: [] for key in column_names2}\n",
    "\n",
    "# takes the soup data and gets the text from the arrays\n",
    "# and stores the clean data into a new array\n",
    "n = 65\n",
    "while n < len(data_for_country_rows):\n",
    "    country_data_in = data_for_country_rows[n].text\n",
    "\n",
    "    if len(country_data_in) < 2:\n",
    "        n+=1\n",
    "        continue\n",
    "    country_rows.append(country_data_in)\n",
    "    n+=1\n",
    "\n",
    "# removes the last 11 index items because \n",
    "# we don't need it\n",
    "country_rows = country_rows[:-11]\n",
    "\n",
    "# goes into the bucket where we placed the countries\n",
    "# and adds it to the dictionary under the assigned key\n",
    "for value in country_rows:\n",
    "    column_names2['Country'].append(value)\n",
    "\n",
    "\n",
    "# loops through and scrapes the data needed to get the \n",
    "# countries El Salvador can travel to without a visa\n",
    "for i in range(len(es_visa_free_countries[:100])):\n",
    "    visa_free_countries = es_visa_free_countries[i].text\n",
    "    without_visa_countries.append(visa_free_countries)\n",
    "\n",
    "# loops through scrapped data and gets the countries that \n",
    "# issue eVisa to Salvadoran Citizens\n",
    "q = 100\n",
    "while q < len(es_visa_free_countries[:128]):\n",
    "    evisa = es_visa_free_countries[q].text\n",
    "    evisa_countries.append(evisa)\n",
    "    q+=1\n",
    "\n",
    "without_visa_countries\n"
   ]
  },
  {
   "cell_type": "code",
   "execution_count": 9,
   "metadata": {},
   "outputs": [
    {
     "data": {
      "text/plain": [
       "dict_keys(['Rank', 'Country', 'Quality of Life Index', 'Purchasing Power Index', 'Safety Index', 'Health Care Index', 'Cost of Living Index', 'Property Price to Income Ratio', 'Traffic Commute Time Index', 'Pollution Index', 'Climate Index'])"
      ]
     },
     "execution_count": 9,
     "metadata": {},
     "output_type": "execute_result"
    }
   ],
   "source": [
    "column_names2.keys()"
   ]
  },
  {
   "cell_type": "code",
   "execution_count": null,
   "metadata": {},
   "outputs": [],
   "source": []
  }
 ],
 "metadata": {
  "kernelspec": {
   "display_name": "Python 3",
   "language": "python",
   "name": "python3"
  },
  "language_info": {
   "codemirror_mode": {
    "name": "ipython",
    "version": 3
   },
   "file_extension": ".py",
   "mimetype": "text/x-python",
   "name": "python",
   "nbconvert_exporter": "python",
   "pygments_lexer": "ipython3",
   "version": "3.10.8"
  },
  "orig_nbformat": 4
 },
 "nbformat": 4,
 "nbformat_minor": 2
}

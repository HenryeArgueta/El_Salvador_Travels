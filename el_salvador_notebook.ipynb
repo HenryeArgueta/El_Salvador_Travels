{
 "cells": [
  {
   "cell_type": "code",
   "execution_count": 197,
   "metadata": {},
   "outputs": [
    {
     "name": "stdout",
     "output_type": "stream",
     "text": [
      "[]\n"
     ]
    }
   ],
   "source": [
    "import requests\n",
    "import pandas as pd\n",
    "import numpy as np\n",
    "import csv\n",
    "from bs4 import BeautifulSoup\n",
    "\n",
    "r = requests.get('https://www.worlddata.info/cost-of-living.php')\n",
    "\n",
    "data = BeautifulSoup(r.text, 'html.parser')\n",
    "# world_data = [tag for tag in data.find_all(['tr'])]\n",
    "world_data = []\n",
    "\n",
    "        \n",
    "print(world_data)"
   ]
  },
  {
   "cell_type": "markdown",
   "metadata": {},
   "source": [
    "**data from:** \n",
    "\n",
    "***https://visaguide.world/visa-free-countries/salvadoran-passport/***\n",
    "\n",
    "***https://www.worlddata.info/cost-of-living.php***\n",
    "\n",
    "\n"
   ]
  },
  {
   "cell_type": "code",
   "execution_count": 182,
   "metadata": {},
   "outputs": [
    {
     "ename": "TypeError",
     "evalue": "list indices must be integers or slices, not str",
     "output_type": "error",
     "traceback": [
      "\u001b[0;31m---------------------------------------------------------------------------\u001b[0m",
      "\u001b[0;31mTypeError\u001b[0m                                 Traceback (most recent call last)",
      "\u001b[1;32m/workspaces/El_Salvador_Travels/el_salvador_notebook.ipynb Cell 2\u001b[0m line \u001b[0;36m3\n\u001b[1;32m      <a href='vscode-notebook-cell://codespaces%2Banimated-space-barnacle-gvw9g6pgpq29xr4/workspaces/El_Salvador_Travels/el_salvador_notebook.ipynb#W1sdnNjb2RlLXJlbW90ZQ%3D%3D?line=0'>1</a>\u001b[0m \u001b[39mfor\u001b[39;00m i \u001b[39min\u001b[39;00m world_data:\n\u001b[1;32m      <a href='vscode-notebook-cell://codespaces%2Banimated-space-barnacle-gvw9g6pgpq29xr4/workspaces/El_Salvador_Travels/el_salvador_notebook.ipynb#W1sdnNjb2RlLXJlbW90ZQ%3D%3D?line=1'>2</a>\u001b[0m     \u001b[39m#  print(world_data[i].findAll(['td'])[1].text)\u001b[39;00m\n\u001b[0;32m----> <a href='vscode-notebook-cell://codespaces%2Banimated-space-barnacle-gvw9g6pgpq29xr4/workspaces/El_Salvador_Travels/el_salvador_notebook.ipynb#W1sdnNjb2RlLXJlbW90ZQ%3D%3D?line=2'>3</a>\u001b[0m     \u001b[39mprint\u001b[39m(world_data[i])\n",
      "\u001b[0;31mTypeError\u001b[0m: list indices must be integers or slices, not str"
     ]
    }
   ],
   "source": [
    "for i in world_data:\n",
    "    #  print(world_data[i].findAll(['td'])[1].text)\n",
    "    print(world_data[i])"
   ]
  },
  {
   "cell_type": "code",
   "execution_count": 92,
   "metadata": {},
   "outputs": [
    {
     "data": {
      "text/plain": [
       "[]"
      ]
     },
     "execution_count": 92,
     "metadata": {},
     "output_type": "execute_result"
    }
   ],
   "source": [
    "world_data[0]"
   ]
  },
  {
   "cell_type": "code",
   "execution_count": null,
   "metadata": {},
   "outputs": [],
   "source": []
  }
 ],
 "metadata": {
  "kernelspec": {
   "display_name": "Python 3",
   "language": "python",
   "name": "python3"
  },
  "language_info": {
   "codemirror_mode": {
    "name": "ipython",
    "version": 3
   },
   "file_extension": ".py",
   "mimetype": "text/x-python",
   "name": "python",
   "nbconvert_exporter": "python",
   "pygments_lexer": "ipython3",
   "version": "3.10.8"
  },
  "orig_nbformat": 4
 },
 "nbformat": 4,
 "nbformat_minor": 2
}
